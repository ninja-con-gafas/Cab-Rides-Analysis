{
 "cells": [
  {
   "cell_type": "code",
   "execution_count": 1,
   "id": "6cddaa75",
   "metadata": {},
   "outputs": [
    {
     "data": {
      "text/html": [
       "<style>\n",
       "div.output_area pre \n",
       "{\n",
       "    white-space: pre;\n",
       "}\n"
      ],
      "text/plain": [
       "<IPython.core.display.HTML object>"
      ]
     },
     "metadata": {},
     "output_type": "display_data"
    }
   ],
   "source": [
    "%%html\n",
    "<style>\n",
    "div.output_area pre \n",
    "{\n",
    "    white-space: pre;\n",
    "}"
   ]
  },
  {
   "cell_type": "code",
   "execution_count": 2,
   "id": "f46eb2bf",
   "metadata": {},
   "outputs": [
    {
     "data": {
      "application/vnd.jupyter.widget-view+json": {
       "model_id": "f37b6022c6304633973d57d0f7386f18",
       "version_major": 2,
       "version_minor": 0
      },
      "text/plain": [
       "VBox()"
      ]
     },
     "metadata": {},
     "output_type": "display_data"
    },
    {
     "name": "stdout",
     "output_type": "stream",
     "text": [
      "Starting Spark application\n"
     ]
    },
    {
     "data": {
      "text/html": [
       "<table>\n",
       "<tr><th>ID</th><th>YARN Application ID</th><th>Kind</th><th>State</th><th>Spark UI</th><th>Driver log</th><th>User</th><th>Current session?</th></tr><tr><td>11</td><td>application_1661943132780_0017</td><td>pyspark</td><td>idle</td><td><a target=\"_blank\" href=\"http://ip-10-0-0-241.ec2.internal:20888/proxy/application_1661943132780_0017/\" class=\"emr-proxy-link\" emr-resource=\"j-2IF5BYD88NR31\n",
       "\" application-id=\"application_1661943132780_0017\">Link</a></td><td><a target=\"_blank\" href=\"http://ip-10-0-0-241.ec2.internal:8042/node/containerlogs/container_1661943132780_0017_01_000001/livy\" >Link</a></td><td>None</td><td>✔</td></tr></table>"
      ],
      "text/plain": [
       "<IPython.core.display.HTML object>"
      ]
     },
     "metadata": {},
     "output_type": "display_data"
    },
    {
     "data": {
      "application/vnd.jupyter.widget-view+json": {
       "model_id": "",
       "version_major": 2,
       "version_minor": 0
      },
      "text/plain": [
       "FloatProgress(value=0.0, bar_style='info', description='Progress:', layout=Layout(height='25px', width='50%'),…"
      ]
     },
     "metadata": {},
     "output_type": "display_data"
    },
    {
     "name": "stdout",
     "output_type": "stream",
     "text": [
      "SparkSession available as 'spark'.\n"
     ]
    },
    {
     "data": {
      "application/vnd.jupyter.widget-view+json": {
       "model_id": "",
       "version_major": 2,
       "version_minor": 0
      },
      "text/plain": [
       "FloatProgress(value=0.0, bar_style='info', description='Progress:', layout=Layout(height='25px', width='50%'),…"
      ]
     },
     "metadata": {},
     "output_type": "display_data"
    }
   ],
   "source": [
    "from pyspark.sql import SparkSession\n",
    "\n",
    "spark = SparkSession \\\n",
    "       .builder \\\n",
    "       .appName('aggregate_bookings_data') \\\n",
    "       .getOrCreate() "
   ]
  },
  {
   "cell_type": "code",
   "execution_count": 3,
   "id": "4ded6954",
   "metadata": {},
   "outputs": [
    {
     "data": {
      "application/vnd.jupyter.widget-view+json": {
       "model_id": "a660d07ea48848ca90ee26ac87a63431",
       "version_major": 2,
       "version_minor": 0
      },
      "text/plain": [
       "VBox()"
      ]
     },
     "metadata": {},
     "output_type": "display_data"
    },
    {
     "data": {
      "application/vnd.jupyter.widget-view+json": {
       "model_id": "",
       "version_major": 2,
       "version_minor": 0
      },
      "text/plain": [
       "FloatProgress(value=0.0, bar_style='info', description='Progress:', layout=Layout(height='25px', width='50%'),…"
      ]
     },
     "metadata": {},
     "output_type": "display_data"
    },
    {
     "name": "stdout",
     "output_type": "stream",
     "text": [
      "+--------+-----------------+-----------+\n",
      "|database|        tableName|isTemporary|\n",
      "+--------+-----------------+-----------+\n",
      "| default|     tbl_bookings|      false|\n",
      "| default|tbl_click_streams|      false|\n",
      "+--------+-----------------+-----------+"
     ]
    }
   ],
   "source": [
    "spark.sql(\"SHOW TABLES\").show()"
   ]
  },
  {
   "cell_type": "code",
   "execution_count": 4,
   "id": "2d6ed673",
   "metadata": {},
   "outputs": [
    {
     "data": {
      "application/vnd.jupyter.widget-view+json": {
       "model_id": "cdd17a6fae7e4a58838e50bd65cd8132",
       "version_major": 2,
       "version_minor": 0
      },
      "text/plain": [
       "VBox()"
      ]
     },
     "metadata": {},
     "output_type": "display_data"
    },
    {
     "data": {
      "application/vnd.jupyter.widget-view+json": {
       "model_id": "",
       "version_major": 2,
       "version_minor": 0
      },
      "text/plain": [
       "FloatProgress(value=0.0, bar_style='info', description='Progress:', layout=Layout(height='25px', width='50%'),…"
      ]
     },
     "metadata": {},
     "output_type": "display_data"
    },
    {
     "name": "stdout",
     "output_type": "stream",
     "text": [
      "root\n",
      " |-- booking_id: string (nullable = true)\n",
      " |-- customer_id: integer (nullable = true)\n",
      " |-- driver_id: integer (nullable = true)\n",
      " |-- customer_app_version: string (nullable = true)\n",
      " |-- customer_phone_os_version: string (nullable = true)\n",
      " |-- pickup_lat: float (nullable = true)\n",
      " |-- pickup_lon: float (nullable = true)\n",
      " |-- drop_lat: float (nullable = true)\n",
      " |-- drop_lon: float (nullable = true)\n",
      " |-- pickup_timestamp: timestamp (nullable = true)\n",
      " |-- drop_timestamp: timestamp (nullable = true)\n",
      " |-- trip_fare: float (nullable = true)\n",
      " |-- tip_amount: float (nullable = true)\n",
      " |-- currency_code: string (nullable = true)\n",
      " |-- cab_color: string (nullable = true)\n",
      " |-- cab_registration_no: string (nullable = true)\n",
      " |-- customer_rating_by_driver: integer (nullable = true)\n",
      " |-- rating_by_customer: integer (nullable = true)\n",
      " |-- passenger_count: integer (nullable = true)\n",
      "\n",
      "+------------+-----------+---------+--------------------+-------------------------+----------+----------+----------+----------+-------------------+-------------------+---------+----------+-------------+---------+-------------------+-------------------------+------------------+---------------+\n",
      "|  booking_id|customer_id|driver_id|customer_app_version|customer_phone_os_version|pickup_lat|pickup_lon|  drop_lat|  drop_lon|   pickup_timestamp|     drop_timestamp|trip_fare|tip_amount|currency_code|cab_color|cab_registration_no|customer_rating_by_driver|rating_by_customer|passenger_count|\n",
      "+------------+-----------+---------+--------------------+-------------------------+----------+----------+----------+----------+-------------------+-------------------+---------+----------+-------------+---------+-------------------+-------------------------+------------------+---------------+\n",
      "|BK8968087150|   51811359| 15055660|              2.2.14|                  Android|-49.431965|103.917854|-58.804386| 146.47737|2020-06-23 19:33:10|2020-06-06 09:02:10|    534.0|      83.0|          INR|    black|        054-38-4479|                        4|                 3|              3|\n",
      "| BK629851904|   31663218| 60872180|               3.4.1|                      iOS| -83.54084| 175.80086|  86.20705| 128.36723|2020-05-23 12:22:04|2020-08-09 19:02:56|    126.0|      67.0|          INR|     lime|        796-39-6801|                        3|                 2|              4|\n",
      "|BK1797410350|   86869399| 94276051|              4.1.36|                      iOS| -67.89307| 55.234127|  -51.1079| -31.07475|2020-05-19 14:14:32|2020-08-23 18:38:39|    297.0|      63.0|          INR|    olive|        748-73-1579|                        1|                 3|              3|\n",
      "|BK5788246325|   58230837| 45457227|              2.4.27|                  Android| 13.707887| 113.49995|  54.38129|-18.437752|2020-03-24 01:30:15|2020-05-19 11:16:45|    932.0|      32.0|          INR|    white|        558-80-6346|                        3|                 2|              2|\n",
      "|BK8342703255|   84232510| 86494681|              4.1.34|                  Android| -6.091461|-114.64979|  22.84495| 70.137825|2020-08-03 19:10:52|2020-03-24 08:25:40|    260.0|       7.0|          INR|     blue|        068-72-1637|                        3|                 3|              3|\n",
      "|BK6015582453|   11981042| 35862658|              2.4.39|                      iOS|-18.910034|  -70.1931|-10.182921| 173.87721|2020-07-17 05:33:48|2020-04-30 04:54:27|    907.0|      53.0|          INR|   purple|        102-10-5639|                        3|                 2|              3|\n",
      "|BK4529355854|   60071878| 78022360|               2.1.9|                      iOS|  1.215274|-56.014904| 35.152878|104.324905|2020-01-02 01:48:40|2020-02-16 04:28:55|    547.0|      17.0|          INR|     teal|        866-83-4349|                        2|                 3|              4|\n",
      "|BK9720088219|   14327312| 94427067|               3.1.2|                  Android|-55.482224| 173.36226|  65.01212|  51.39075|2020-04-10 15:11:07|2020-01-20 21:17:42|    259.0|      33.0|          INR|   maroon|        572-73-6526|                        3|                 3|              2|\n",
      "|BK7157532607|   46407210| 43160003|               1.3.4|                  Android| 46.005844|-16.826145| 7.6126013|-156.42857|2020-06-09 05:56:31|2020-03-19 01:53:16|    787.0|      21.0|          INR|    olive|        667-23-5880|                        2|                 2|              3|\n",
      "|BK5014871433|   65861573| 64708618|              1.3.28|                      iOS|-29.565327|  64.84371|  84.06811|-49.820835|2020-08-14 20:43:42|2020-06-03 09:39:59|    586.0|       5.0|          INR|  fuchsia|        255-52-5654|                        5|                 5|              1|\n",
      "|BK9051488736|   37721758| 27297770|              2.3.13|                  Android| 61.936462|   83.2497| 0.0281895|  115.4691|2020-04-07 04:27:59|2020-09-29 10:51:41|    912.0|      80.0|          INR|     aqua|        739-09-9569|                        2|                 1|              2|\n",
      "| BK243762319|   62552969| 45877457|               3.3.9|                      iOS|-62.651516|-139.15402| 28.029999|  -62.8556|2020-07-01 00:36:05|2020-09-30 17:40:23|    821.0|      23.0|          INR|    black|        590-44-6613|                        2|                 3|              4|\n",
      "|BK4683595168|   56801961| 53401707|              4.2.34|                      iOS| -5.860265|-100.00484|  25.01659|  70.47136|2020-05-03 10:17:56|2020-06-08 09:11:27|     71.0|      10.0|          INR|  fuchsia|        454-04-0608|                        5|                 2|              3|\n",
      "|BK9783284253|   66909721| 40509554|              2.2.22|                  Android| 36.191315|  5.686264| 88.988396|   36.5806|2020-03-05 16:02:01|2020-05-29 13:36:15|     26.0|      81.0|          INR|    black|        600-17-7043|                        3|                 1|              3|\n",
      "|BK2880021380|   50163555| 34005420|              3.4.23|                  Android| -83.06599| 106.26869|  8.830086|  74.87235|2020-01-15 02:00:07|2020-05-12 21:53:04|    571.0|      99.0|          INR|     navy|        506-09-4981|                        1|                 5|              3|\n",
      "|BK4537426043|   91111754| 59250769|              1.2.19|                      iOS|-43.118843| -99.93572| 3.7026224|-46.828716|2020-04-28 05:18:34|2020-02-12 11:31:40|    650.0|      81.0|          INR|    white|        362-35-8054|                        5|                 5|              2|\n",
      "| BK998130731|   67875357| 14562526|              3.1.15|                  Android|-10.861959|-111.98985|  57.23312| 95.469986|2020-01-25 01:37:22|2020-04-28 09:42:00|    590.0|       3.0|          INR|     teal|        359-51-9362|                        1|                 1|              4|\n",
      "|BK5645323730|   18442993| 84939946|              3.1.29|                  Android| -81.47224|-88.404915| 12.690818|-140.99768|2020-09-24 08:18:31|2020-07-16 05:12:24|    515.0|       1.0|          INR|     blue|        024-35-8771|                        1|                 3|              4|\n",
      "|BK6163608413|   36591778| 11946210|              4.2.38|                  Android|  60.20364|  120.9885| 32.103264|-50.551888|2020-07-26 06:12:56|2020-04-23 06:57:20|    810.0|      58.0|          INR|   silver|        833-16-1378|                        3|                 5|              1|\n",
      "|BK6803373649|   28382306| 97222676|              2.1.18|                      iOS|  6.540056|   161.084|-12.943502|-148.23262|2020-09-20 15:52:49|2020-09-17 03:13:26|    927.0|      74.0|          INR|   maroon|        747-70-5557|                        2|                 2|              4|\n",
      "+------------+-----------+---------+--------------------+-------------------------+----------+----------+----------+----------+-------------------+-------------------+---------+----------+-------------+---------+-------------------+-------------------------+------------------+---------------+\n",
      "only showing top 20 rows"
     ]
    }
   ],
   "source": [
    "bookings = spark.sql(\"SELECT * FROM TBL_BOOKINGS\")\n",
    "bookings.printSchema()\n",
    "bookings.show()"
   ]
  },
  {
   "cell_type": "code",
   "execution_count": 5,
   "id": "e9523f7a",
   "metadata": {},
   "outputs": [
    {
     "data": {
      "application/vnd.jupyter.widget-view+json": {
       "model_id": "6b8ab6c6b150461cb22cf7cec9e2b307",
       "version_major": 2,
       "version_minor": 0
      },
      "text/plain": [
       "VBox()"
      ]
     },
     "metadata": {},
     "output_type": "display_data"
    },
    {
     "data": {
      "application/vnd.jupyter.widget-view+json": {
       "model_id": "",
       "version_major": 2,
       "version_minor": 0
      },
      "text/plain": [
       "FloatProgress(value=0.0, bar_style='info', description='Progress:', layout=Layout(height='25px', width='50%'),…"
      ]
     },
     "metadata": {},
     "output_type": "display_data"
    }
   ],
   "source": [
    "from pyspark.sql.functions import col, to_date, count, sum as pyspark_sum\n",
    "\n",
    "bookings_aggregated = bookings.withColumn(\"trip_date\", to_date(col(\"pickup_timestamp\"), \"yyyy-MM-dd\")) \\\n",
    "    .groupBy(col(\"trip_date\")) \\\n",
    "    .agg(\n",
    "        count(\"booking_id\").alias(\"number_of_trips\"),\n",
    "        pyspark_sum(\"trip_fare\").alias(\"total_trip_amount\"),\n",
    "        pyspark_sum(\"tip_amount\").alias(\"total_tip_amount\"),\n",
    "        pyspark_sum(\"passenger_count\").alias(\"total_passanger_counts\")\n",
    "        ) \\\n",
    "    .orderBy(\"trip_date\") \\"
   ]
  },
  {
   "cell_type": "code",
   "execution_count": 6,
   "id": "372b6c5c",
   "metadata": {},
   "outputs": [
    {
     "data": {
      "application/vnd.jupyter.widget-view+json": {
       "model_id": "9d41db3cb2234bd7bbf59697cfef2ee3",
       "version_major": 2,
       "version_minor": 0
      },
      "text/plain": [
       "VBox()"
      ]
     },
     "metadata": {},
     "output_type": "display_data"
    },
    {
     "data": {
      "application/vnd.jupyter.widget-view+json": {
       "model_id": "",
       "version_major": 2,
       "version_minor": 0
      },
      "text/plain": [
       "FloatProgress(value=0.0, bar_style='info', description='Progress:', layout=Layout(height='25px', width='50%'),…"
      ]
     },
     "metadata": {},
     "output_type": "display_data"
    },
    {
     "name": "stdout",
     "output_type": "stream",
     "text": [
      "+----------+---------------+-----------------+----------------+----------------------+\n",
      "| trip_date|number_of_trips|total_trip_amount|total_tip_amount|total_passanger_counts|\n",
      "+----------+---------------+-----------------+----------------+----------------------+\n",
      "|2020-01-01|              1|            140.0|            59.0|                     3|\n",
      "|2020-01-02|              3|           1502.0|            95.0|                     6|\n",
      "|2020-01-03|              2|           1190.0|            11.0|                     8|\n",
      "|2020-01-04|              2|            640.0|           123.0|                     4|\n",
      "|2020-01-05|              2|            678.0|           134.0|                     7|\n",
      "|2020-01-06|              3|           1328.0|           189.0|                     7|\n",
      "|2020-01-07|              2|           1495.0|           148.0|                     5|\n",
      "|2020-01-08|              4|           1899.0|           111.0|                    13|\n",
      "|2020-01-09|              2|            778.0|            48.0|                     6|\n",
      "|2020-01-10|              2|            952.0|            77.0|                     4|\n",
      "|2020-01-11|              3|            745.0|            81.0|                     8|\n",
      "|2020-01-12|              3|           1444.0|           109.0|                     6|\n",
      "|2020-01-14|              2|            162.0|           142.0|                     4|\n",
      "|2020-01-15|              5|           3435.0|           338.0|                    13|\n",
      "|2020-01-16|              3|           2483.0|           155.0|                     4|\n",
      "|2020-01-17|              4|           3260.0|           296.0|                     7|\n",
      "|2020-01-18|              4|           3239.0|           240.0|                     8|\n",
      "|2020-01-20|              4|           1746.0|           210.0|                    13|\n",
      "|2020-01-21|              1|            286.0|             5.0|                     1|\n",
      "|2020-01-23|              4|           2661.0|           148.0|                    10|\n",
      "+----------+---------------+-----------------+----------------+----------------------+\n",
      "only showing top 20 rows\n",
      "\n",
      "289"
     ]
    }
   ],
   "source": [
    "bookings_aggregated.show()\n",
    "bookings_aggregated.count()"
   ]
  },
  {
   "cell_type": "code",
   "execution_count": 7,
   "id": "b354b3c6",
   "metadata": {},
   "outputs": [
    {
     "data": {
      "application/vnd.jupyter.widget-view+json": {
       "model_id": "2c551a8bd4914926a2a106ba114a7e3a",
       "version_major": 2,
       "version_minor": 0
      },
      "text/plain": [
       "VBox()"
      ]
     },
     "metadata": {},
     "output_type": "display_data"
    },
    {
     "data": {
      "application/vnd.jupyter.widget-view+json": {
       "model_id": "",
       "version_major": 2,
       "version_minor": 0
      },
      "text/plain": [
       "FloatProgress(value=0.0, bar_style='info', description='Progress:', layout=Layout(height='25px', width='50%'),…"
      ]
     },
     "metadata": {},
     "output_type": "display_data"
    },
    {
     "name": "stdout",
     "output_type": "stream",
     "text": [
      "DataFrame[]"
     ]
    }
   ],
   "source": [
    "bookings_aggregated.createOrReplaceTempView(\"VW_AGGREGATED_BOOKINGS\")\n",
    "spark.sql(\"CREATE TABLE IF NOT EXISTS TBL_AGGREGATED_BOOKINGS \\\n",
    "            AS SELECT * FROM VW_AGGREGATED_BOOKINGS\");"
   ]
  },
  {
   "cell_type": "code",
   "execution_count": 8,
   "id": "1164d750",
   "metadata": {},
   "outputs": [
    {
     "data": {
      "application/vnd.jupyter.widget-view+json": {
       "model_id": "eb849e57b21c4513af8d958a2650f86d",
       "version_major": 2,
       "version_minor": 0
      },
      "text/plain": [
       "VBox()"
      ]
     },
     "metadata": {},
     "output_type": "display_data"
    },
    {
     "data": {
      "application/vnd.jupyter.widget-view+json": {
       "model_id": "",
       "version_major": 2,
       "version_minor": 0
      },
      "text/plain": [
       "FloatProgress(value=0.0, bar_style='info', description='Progress:', layout=Layout(height='25px', width='50%'),…"
      ]
     },
     "metadata": {},
     "output_type": "display_data"
    },
    {
     "name": "stdout",
     "output_type": "stream",
     "text": [
      "+--------+--------------------+-----------+\n",
      "|database|           tableName|isTemporary|\n",
      "+--------+--------------------+-----------+\n",
      "| default|tbl_aggregated_bo...|      false|\n",
      "| default|        tbl_bookings|      false|\n",
      "| default|   tbl_click_streams|      false|\n",
      "|        |vw_aggregated_boo...|       true|\n",
      "+--------+--------------------+-----------+"
     ]
    }
   ],
   "source": [
    "spark.sql(\"SHOW TABLES\").show()"
   ]
  },
  {
   "cell_type": "code",
   "execution_count": null,
   "id": "2aac96d5",
   "metadata": {},
   "outputs": [],
   "source": []
  }
 ],
 "metadata": {
  "kernelspec": {
   "display_name": "PySpark",
   "language": "python",
   "name": "pysparkkernel"
  },
  "language_info": {
   "codemirror_mode": {
    "name": "python",
    "version": 3
   },
   "file_extension": ".py",
   "mimetype": "text/x-python",
   "name": "pyspark",
   "pygments_lexer": "python3"
  }
 },
 "nbformat": 4,
 "nbformat_minor": 5
}
